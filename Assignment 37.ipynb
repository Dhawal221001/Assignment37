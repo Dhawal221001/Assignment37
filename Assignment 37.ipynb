{
 "cells": [
  {
   "cell_type": "markdown",
   "id": "082a4132-c5b3-42be-9112-775cfde286cf",
   "metadata": {},
   "source": [
    "## Q1. Explain the assumptions required to use ANOVA and provide examples of violations that could impact the validity of the results."
   ]
  },
  {
   "cell_type": "markdown",
   "id": "1102a6f2-8487-472f-8e2a-5cf7f460fa44",
   "metadata": {},
   "source": [
    "## Assumptions:\n",
    "### 1.The population from which samples are drawn should be normally distributed.\n",
    "### 2.Independence of cases: the sample cases should be independent of each other.\n",
    "### 3.Homogeneity of variance: Homogeneity means that the variance among the groups should be approximately equal."
   ]
  },
  {
   "cell_type": "markdown",
   "id": "38bb4999-c71e-4dd5-9e37-ed153cc2d2aa",
   "metadata": {},
   "source": [
    "### The one-way ANOVA is considered a robust test against the normality assumption. This means that it tolerates violations to its normality assumption rather well. As regards the normality of group data, the one-way ANOVA can tolerate data that is non-normal (skewed or kurtotic distributions) with only a small effect on the Type I error rate. However, platykurtosis can have a profound effect when your group sizes are small. This leaves you with two options: (1) transform your data using various algorithms so that the shape of your distributions become normally distributed or (2) choose the nonparametric Kruskal-Wallis H Test which does not require the assumption of normality."
   ]
  },
  {
   "cell_type": "markdown",
   "id": "3d840692-25dd-4281-bc69-cdf6ab4ef00c",
   "metadata": {},
   "source": [
    "## Q2. What are the three types of ANOVA, and in what situations would each be used?"
   ]
  },
  {
   "cell_type": "markdown",
   "id": "e8483700-ec03-4644-be1b-eb38f4037438",
   "metadata": {},
   "source": [
    "### A one-way ANOVA has just one independent variable. For example, difference in IQ can be assessed by Country, and County can have 2, 20, or more different categories to compare.\n",
    "\n",
    "### A two-way ANOVA (are also called factorial ANOVA) refers to an ANOVA using two independent variables. Expanding the example above, a 2-way ANOVA can examine differences in IQ scores (the dependent variable) by Country (independent variable 1) and Gender (independent variable 2). Two-way ANOVA can be used to examine the interaction between the two independent variables. Interactions indicate that differences are not uniform across all categories of the independent variables. For example, females may have higher IQ scores overall compared to males, but this difference could be greater (or less) in European countries compared to North American countries.\n",
    "\n",
    "### A researcher can also use more than two independent variables, and this is an n-way ANOVA (with n being the number of independent variables you have). For example, potential differences in IQ scores can be examined by Country, Gender, Age group, Ethnicity, etc, simultaneously."
   ]
  },
  {
   "cell_type": "markdown",
   "id": "b88e2d01-3392-47a1-807c-626218c4016c",
   "metadata": {},
   "source": [
    "## Q3. What is the partitioning of variance in ANOVA, and why is it important to understand this concept?"
   ]
  },
  {
   "cell_type": "markdown",
   "id": "673747b5-4200-4262-8f9d-6ca086de51da",
   "metadata": {},
   "source": [
    "### An ANOVA uses an F-test to evaluate whether the variance among the groups is greater than the variance within a group. Another way to view this problem is that we could partition variance, that is, we could divide the total variance in our data into the various sources of that variation. Here, some of the variance results from variation among replicates within each group, and the rest comes from variation among the groups. Partitioning variance is an incredibly important concept within statistics. For scientists, it is a useful way of looking at the world: variation is everywhere, and you should ask what causes that variation."
   ]
  },
  {
   "cell_type": "markdown",
   "id": "6ee88a1e-3c15-44d7-818d-3ce696788174",
   "metadata": {},
   "source": [
    "## Q4. How would you calculate the total sum of squares (SST), explained sum of squares (SSE), and residual sum of squares (SSR) in a one-way ANOVA using Python?"
   ]
  },
  {
   "cell_type": "code",
   "execution_count": 2,
   "id": "19a69714-02e6-4455-b322-00b89a37da68",
   "metadata": {},
   "outputs": [],
   "source": [
    "import statsmodels.api as sm"
   ]
  },
  {
   "cell_type": "code",
   "execution_count": null,
   "id": "a9cda6d2-ca2e-4da9-b8a3-de8604955988",
   "metadata": {},
   "outputs": [],
   "source": [
    "x = sm.add_constant(x)\n",
    "  \n",
    "#fit linear regression model\n",
    "model = sm.OLS(y, x).fit()\n",
    "  \n",
    "# residual sum of squares\n",
    "print(model.ssr)"
   ]
  },
  {
   "cell_type": "markdown",
   "id": "e5d2a5c7-7f2b-4d76-a088-96cf85f5aa57",
   "metadata": {},
   "source": [
    "## Q5. In a two-way ANOVA, how would you calculate the main effects and interaction effects using Python?"
   ]
  },
  {
   "cell_type": "markdown",
   "id": "3a8de62b-db90-4193-a306-b626905133e7",
   "metadata": {},
   "source": [
    "## Q6. Suppose you conducted a one-way ANOVA and obtained an F-statistic of 5.23 and a p-value of 0.02. What can you conclude about the differences between the groups, and how would you interpret these results?"
   ]
  },
  {
   "cell_type": "markdown",
   "id": "131b4710-6783-46b3-a090-dac61404036c",
   "metadata": {},
   "source": [
    "## Q7. In a repeated measures ANOVA, how would you handle missing data, and what are the potential consequences of using different methods to handle missing data?"
   ]
  },
  {
   "cell_type": "markdown",
   "id": "a498b47f-1703-4f25-8d80-c00a33d7ca06",
   "metadata": {},
   "source": [
    "### One of the biggest problems with traditional repeated measures ANOVA is missing data on the response variable. The problem is that repeated measures ANOVA treats each measurement as a separate variable. Because it uses listwise deletion, if one measurement is missing, the entire case gets dropped. What to use instead: Marginal and mixed models treat each occasion as a different observation of the same variable. So you may lose the measurement with missing data, but not all other responses from the same subject."
   ]
  },
  {
   "cell_type": "markdown",
   "id": "ad1ac30e-4d01-4d2f-9a96-f11768d96d2c",
   "metadata": {},
   "source": [
    "## Q8. What are some common post-hoc tests used after ANOVA, and when would you use each one? Provide an example of a situation where a post-hoc test might be necessary."
   ]
  },
  {
   "cell_type": "markdown",
   "id": "d1e79fd2-7ee0-43fc-81b3-30535fc1cf9d",
   "metadata": {},
   "source": [
    "### Imagine we are testing four materials that we’re considering for making a product part. We want to determine whether the mean differences between the strengths of these four materials are statistically significant. we can reject the null hypothesis and conclude that the four means are not all equal. The Means table at the bottom displays the group means. However, we don’t know which pairs of groups are significantly different. To compare group means, we need to perform post hoc tests, also known as multiple comparisons. "
   ]
  },
  {
   "cell_type": "markdown",
   "id": "7a9967c2-416d-46b6-adca-27e650144f60",
   "metadata": {},
   "source": [
    "## Q9. A researcher wants to compare the mean weight loss of three diets: A, B, and C. They collect data from 50 participants who were randomly assigned to one of the diets. Conduct a one-way ANOVA using Python to determine if there are any significant differences between the mean weight loss of the three diets.Report the F-statistic and p-value, and interpret the results."
   ]
  },
  {
   "cell_type": "code",
   "execution_count": 1,
   "id": "8a25648a-e687-49e3-8ba6-b0668d5c1073",
   "metadata": {},
   "outputs": [],
   "source": [
    "import numpy as np\n",
    "import scipy.stats as stat"
   ]
  },
  {
   "cell_type": "code",
   "execution_count": 25,
   "id": "a58cbba3-be17-4202-bcb6-1f5b9f5ced28",
   "metadata": {},
   "outputs": [],
   "source": [
    "A=np.random.normal(5,scale=5,size=16)\n",
    "B=np.random.normal(6.6,scale=5,size=16)\n",
    "C=np.random.normal(4.2,scale=5,size=18)"
   ]
  },
  {
   "cell_type": "code",
   "execution_count": 26,
   "id": "5062386f-96f7-40e3-abe0-e9680770bcde",
   "metadata": {},
   "outputs": [
    {
     "data": {
      "text/plain": [
       "array([ 2.4740655 ,  9.30279443,  2.06703141,  4.90884087, 10.33694422,\n",
       "       -0.02239828, 10.26001633,  9.20744752,  4.88239026,  6.16705082,\n",
       "        1.42054154,  4.35061027,  2.28276727,  6.06647   ,  1.94600642,\n",
       "       -3.66293696])"
      ]
     },
     "execution_count": 26,
     "metadata": {},
     "output_type": "execute_result"
    }
   ],
   "source": [
    "A"
   ]
  },
  {
   "cell_type": "code",
   "execution_count": 27,
   "id": "ab59c8c5-7cbd-4139-997e-b22900e1a0e5",
   "metadata": {},
   "outputs": [
    {
     "data": {
      "text/plain": [
       "array([16.29467803, -0.68674509, 10.6780615 ,  2.90572568,  6.12971078,\n",
       "       10.13767272,  8.84252868,  0.9832229 ,  3.89093102,  5.10426296,\n",
       "        1.47027182, 11.27581586,  1.15628297, 15.00199929, -5.3143011 ,\n",
       "        4.9888399 ])"
      ]
     },
     "execution_count": 27,
     "metadata": {},
     "output_type": "execute_result"
    }
   ],
   "source": [
    "B"
   ]
  },
  {
   "cell_type": "code",
   "execution_count": 28,
   "id": "3defa911-b20e-49e7-b711-7df1fc4eb41a",
   "metadata": {
    "tags": []
   },
   "outputs": [
    {
     "data": {
      "text/plain": [
       "array([ 5.23906616,  6.31116605,  2.04342699,  1.84236056,  1.35914206,\n",
       "       -3.90309296,  3.8875906 ,  4.26676556,  9.32600843,  9.45012947,\n",
       "        6.9498447 , -1.79689642,  6.23235962,  4.68133352,  1.14015308,\n",
       "       10.27216866,  7.09881087,  4.34644587])"
      ]
     },
     "execution_count": 28,
     "metadata": {},
     "output_type": "execute_result"
    }
   ],
   "source": [
    "C"
   ]
  },
  {
   "cell_type": "code",
   "execution_count": 30,
   "id": "a459e325-81a4-4a56-b75c-9e9f3658c31e",
   "metadata": {},
   "outputs": [],
   "source": [
    "f_statistics,p_value=stat.f_oneway(A,B,C)"
   ]
  },
  {
   "cell_type": "code",
   "execution_count": 31,
   "id": "270ee5e9-93ee-4920-bcdd-ae9541a421b2",
   "metadata": {},
   "outputs": [
    {
     "data": {
      "text/plain": [
       "0.482927303734956"
      ]
     },
     "execution_count": 31,
     "metadata": {},
     "output_type": "execute_result"
    }
   ],
   "source": [
    "f_statistics"
   ]
  },
  {
   "cell_type": "code",
   "execution_count": 32,
   "id": "9eec8602-6f84-4b5d-8998-f74ba49000b5",
   "metadata": {},
   "outputs": [
    {
     "data": {
      "text/plain": [
       "0.620002262158216"
      ]
     },
     "execution_count": 32,
     "metadata": {},
     "output_type": "execute_result"
    }
   ],
   "source": [
    "p_value"
   ]
  },
  {
   "cell_type": "code",
   "execution_count": 35,
   "id": "7f9bcee9-f3f6-419a-87a6-25d47a5c7718",
   "metadata": {},
   "outputs": [],
   "source": [
    "dfb=3-1\n",
    "dfw=50-3\n",
    "significance_value=0.05"
   ]
  },
  {
   "cell_type": "code",
   "execution_count": 37,
   "id": "2c254fc0-9fdc-414b-8b59-92912e20a56b",
   "metadata": {},
   "outputs": [],
   "source": [
    "critical_value=stat.f.ppf(q=1-significance_value,dfn=dfb,dfd=dfw)"
   ]
  },
  {
   "cell_type": "code",
   "execution_count": 38,
   "id": "341e68ee-94a7-4eed-8373-61167efde601",
   "metadata": {},
   "outputs": [
    {
     "data": {
      "text/plain": [
       "3.195056280737215"
      ]
     },
     "execution_count": 38,
     "metadata": {},
     "output_type": "execute_result"
    }
   ],
   "source": [
    "critical_value"
   ]
  },
  {
   "cell_type": "code",
   "execution_count": 40,
   "id": "5faa5997-6718-4851-a235-4c884c97de60",
   "metadata": {},
   "outputs": [
    {
     "name": "stdout",
     "output_type": "stream",
     "text": [
      "we fail to reject the null hypothesis\n"
     ]
    }
   ],
   "source": [
    "if f_statistics > critical_value:\n",
    "    print(\"we reject the null hypothesis\")\n",
    "else:\n",
    "    print(\"we fail to reject the null hypothesis\")"
   ]
  },
  {
   "cell_type": "markdown",
   "id": "486dddcc-037f-4044-bcb3-2215eb3a8647",
   "metadata": {},
   "source": [
    "## Q10. A company wants to know if there are any significant differences in the average time it takes to complete a task using three different software programs: Program A, Program B, and Program C. They randomly assign 30 employees to one of the programs and record the time it takes each employee to complete the task. Conduct a two-way ANOVA using Python to determine if there are any main effects or interaction effects between the software programs and employee experience level (novice vs. experienced). Report the F-statistics and p-values, and interpret the results."
   ]
  },
  {
   "cell_type": "code",
   "execution_count": 45,
   "id": "63e698ee-c8b1-49d8-a812-4bec084dc489",
   "metadata": {},
   "outputs": [],
   "source": [
    "A=np.random.normal(5,scale=1.59,size=10)\n",
    "B=np.random.normal(6,scale=1.67,size=10)\n",
    "C=np.random.normal(5,scale=1.34,size=10)"
   ]
  },
  {
   "cell_type": "code",
   "execution_count": 46,
   "id": "aeb5c6d3-6d97-42ef-9161-8edf4cae0fbf",
   "metadata": {},
   "outputs": [
    {
     "data": {
      "text/plain": [
       "array([4.44971989, 6.59922221, 7.47112224, 2.98295775, 5.27791198,\n",
       "       3.4999388 , 4.29987577, 5.19647777, 5.6113129 , 3.34532801])"
      ]
     },
     "execution_count": 46,
     "metadata": {},
     "output_type": "execute_result"
    }
   ],
   "source": [
    "A"
   ]
  },
  {
   "cell_type": "code",
   "execution_count": 47,
   "id": "965371be-27f2-4f2d-b64e-6180f03b19ae",
   "metadata": {},
   "outputs": [
    {
     "data": {
      "text/plain": [
       "array([8.25749023, 9.80356043, 5.37122993, 6.24737935, 6.90098152,\n",
       "       4.74202307, 8.54175311, 4.59855132, 5.85486604, 6.43984543])"
      ]
     },
     "execution_count": 47,
     "metadata": {},
     "output_type": "execute_result"
    }
   ],
   "source": [
    "B"
   ]
  },
  {
   "cell_type": "code",
   "execution_count": 48,
   "id": "938017d4-cd1f-4728-8587-26211559a023",
   "metadata": {},
   "outputs": [
    {
     "data": {
      "text/plain": [
       "array([8.73836471, 5.36154602, 5.84913982, 5.5137801 , 4.89632818,\n",
       "       5.46838294, 4.25925673, 3.37438941, 6.94681681, 2.30976715])"
      ]
     },
     "execution_count": 48,
     "metadata": {},
     "output_type": "execute_result"
    }
   ],
   "source": [
    "C"
   ]
  },
  {
   "cell_type": "code",
   "execution_count": 49,
   "id": "4d38ee8f-3130-4e88-9023-daed37110843",
   "metadata": {},
   "outputs": [],
   "source": [
    "import statsmodels.api as sm"
   ]
  },
  {
   "cell_type": "code",
   "execution_count": 51,
   "id": "c9922fae-3f78-4d69-8410-7a73d7514950",
   "metadata": {},
   "outputs": [
    {
     "ename": "AttributeError",
     "evalue": "'numpy.ndarray' object has no attribute 'scale'",
     "output_type": "error",
     "traceback": [
      "\u001b[0;31m---------------------------------------------------------------------------\u001b[0m",
      "\u001b[0;31mAttributeError\u001b[0m                            Traceback (most recent call last)",
      "Cell \u001b[0;32mIn[51], line 1\u001b[0m\n\u001b[0;32m----> 1\u001b[0m \u001b[43msm\u001b[49m\u001b[38;5;241;43m.\u001b[39;49m\u001b[43mstats\u001b[49m\u001b[38;5;241;43m.\u001b[39;49m\u001b[43manova_lm\u001b[49m\u001b[43m(\u001b[49m\u001b[43mA\u001b[49m\u001b[43m,\u001b[49m\u001b[43mB\u001b[49m\u001b[43m,\u001b[49m\u001b[43mC\u001b[49m\u001b[43m,\u001b[49m\u001b[38;5;28;43mtype\u001b[39;49m\u001b[38;5;241;43m=\u001b[39;49m\u001b[38;5;241;43m2\u001b[39;49m\u001b[43m)\u001b[49m\n",
      "File \u001b[0;32m/opt/conda/lib/python3.10/site-packages/statsmodels/stats/anova.py:363\u001b[0m, in \u001b[0;36manova_lm\u001b[0;34m(*args, **kwargs)\u001b[0m\n\u001b[1;32m    360\u001b[0m table \u001b[38;5;241m=\u001b[39m DataFrame(np\u001b[38;5;241m.\u001b[39mzeros((n_models, \u001b[38;5;241m6\u001b[39m)), columns\u001b[38;5;241m=\u001b[39mnames)\n\u001b[1;32m    362\u001b[0m \u001b[38;5;28;01mif\u001b[39;00m \u001b[38;5;129;01mnot\u001b[39;00m scale: \u001b[38;5;66;03m# assume biggest model is last\u001b[39;00m\n\u001b[0;32m--> 363\u001b[0m     scale \u001b[38;5;241m=\u001b[39m \u001b[43margs\u001b[49m\u001b[43m[\u001b[49m\u001b[38;5;241;43m-\u001b[39;49m\u001b[38;5;241;43m1\u001b[39;49m\u001b[43m]\u001b[49m\u001b[38;5;241;43m.\u001b[39;49m\u001b[43mscale\u001b[49m\n\u001b[1;32m    365\u001b[0m table[\u001b[38;5;124m\"\u001b[39m\u001b[38;5;124mssr\u001b[39m\u001b[38;5;124m\"\u001b[39m] \u001b[38;5;241m=\u001b[39m [mdl\u001b[38;5;241m.\u001b[39mssr \u001b[38;5;28;01mfor\u001b[39;00m mdl \u001b[38;5;129;01min\u001b[39;00m args]\n\u001b[1;32m    366\u001b[0m table[\u001b[38;5;124m\"\u001b[39m\u001b[38;5;124mdf_resid\u001b[39m\u001b[38;5;124m\"\u001b[39m] \u001b[38;5;241m=\u001b[39m [mdl\u001b[38;5;241m.\u001b[39mdf_resid \u001b[38;5;28;01mfor\u001b[39;00m mdl \u001b[38;5;129;01min\u001b[39;00m args]\n",
      "\u001b[0;31mAttributeError\u001b[0m: 'numpy.ndarray' object has no attribute 'scale'"
     ]
    }
   ],
   "source": [
    "sm.stats.anova_lm(A,B,C,type=2)"
   ]
  },
  {
   "cell_type": "markdown",
   "id": "02da556d-0dae-4652-af7d-42024b57abbf",
   "metadata": {},
   "source": [
    "## Q11. An educational researcher is interested in whether a new teaching method improves student test scores. They randomly assign 100 students to either the control group (traditional teaching method) or the experimental group (new teaching method) and administer a test at the end of the semester. Conduct a two-sample t-test using Python to determine if there are any significant differences in test scores between the two groups. If the results are significant, follow up with a post-hoc test to determine which group(s) differ significantly from each other."
   ]
  },
  {
   "cell_type": "code",
   "execution_count": 53,
   "id": "bb9ace6f-3ba5-4efa-a703-1d912b459791",
   "metadata": {},
   "outputs": [],
   "source": [
    "control_g=np.random.randint(35,99,size=50)\n",
    "experimental_g=np.random.randint(35,99,size=50)"
   ]
  },
  {
   "cell_type": "code",
   "execution_count": 54,
   "id": "9217c306-4687-47de-bea4-279b85ee4d05",
   "metadata": {},
   "outputs": [
    {
     "data": {
      "text/plain": [
       "array([83, 85, 78, 69, 68, 64, 49, 36, 59, 85, 70, 77, 65, 80, 37, 44, 84,\n",
       "       60, 63, 83, 39, 55, 36, 52, 87, 64, 76, 51, 71, 45, 42, 61, 98, 83,\n",
       "       38, 76, 53, 47, 48, 39, 66, 51, 36, 69, 66, 76, 69, 63, 95, 37])"
      ]
     },
     "execution_count": 54,
     "metadata": {},
     "output_type": "execute_result"
    }
   ],
   "source": [
    "control_g"
   ]
  },
  {
   "cell_type": "code",
   "execution_count": 55,
   "id": "f9e2099e-c29d-4d1d-8ab1-04ae1672e469",
   "metadata": {},
   "outputs": [
    {
     "data": {
      "text/plain": [
       "array([84, 58, 36, 68, 57, 44, 83, 36, 49, 76, 72, 38, 64, 75, 77, 87, 39,\n",
       "       66, 92, 96, 83, 97, 35, 90, 41, 69, 80, 35, 37, 59, 53, 52, 98, 61,\n",
       "       65, 75, 98, 86, 38, 71, 45, 84, 68, 41, 43, 36, 61, 41, 50, 87])"
      ]
     },
     "execution_count": 55,
     "metadata": {},
     "output_type": "execute_result"
    }
   ],
   "source": [
    "experimental_g"
   ]
  },
  {
   "cell_type": "code",
   "execution_count": 56,
   "id": "3bb0acac-252a-4be5-b9a3-a42df29fea0f",
   "metadata": {},
   "outputs": [],
   "source": [
    "f_statistics,p_value=stat.f_oneway(control_g,experimental_g)"
   ]
  },
  {
   "cell_type": "code",
   "execution_count": 57,
   "id": "cc21ffd4-d945-4797-aca9-65a9efe09b72",
   "metadata": {},
   "outputs": [
    {
     "data": {
      "text/plain": [
       "0.06469907274748686"
      ]
     },
     "execution_count": 57,
     "metadata": {},
     "output_type": "execute_result"
    }
   ],
   "source": [
    "f_statistics"
   ]
  },
  {
   "cell_type": "code",
   "execution_count": 58,
   "id": "fb0cacf7-dd3a-4322-b52d-4ddffa6eda4f",
   "metadata": {},
   "outputs": [],
   "source": [
    "dfb=2-1\n",
    "dfw=100-2\n",
    "significance_value=0.05"
   ]
  },
  {
   "cell_type": "code",
   "execution_count": 59,
   "id": "9127887e-9f0c-42c6-8c64-b9005c54b8db",
   "metadata": {},
   "outputs": [],
   "source": [
    "critical_value=stat.f.ppf(q=1-significance_value,dfn=dfb,dfd=dfw)"
   ]
  },
  {
   "cell_type": "code",
   "execution_count": 60,
   "id": "5c041d94-464d-4dea-ab82-6e90a67e0152",
   "metadata": {},
   "outputs": [
    {
     "data": {
      "text/plain": [
       "3.938111078003371"
      ]
     },
     "execution_count": 60,
     "metadata": {},
     "output_type": "execute_result"
    }
   ],
   "source": [
    "critical_value"
   ]
  },
  {
   "cell_type": "code",
   "execution_count": 61,
   "id": "6ea92379-f838-4a35-b5d9-0b8c71380189",
   "metadata": {},
   "outputs": [
    {
     "name": "stdout",
     "output_type": "stream",
     "text": [
      "we fail to reject the null hypothesis\n"
     ]
    }
   ],
   "source": [
    "if f_statistics > critical_value:\n",
    "    print(\"we reject the null hypothesis\")\n",
    "else:\n",
    "    print(\"we fail to reject the null hypothesis\")"
   ]
  },
  {
   "cell_type": "markdown",
   "id": "623e45cc-38fc-488e-99cd-3f99c958f5e6",
   "metadata": {},
   "source": [
    "## that is difference is not significant"
   ]
  },
  {
   "cell_type": "markdown",
   "id": "bebadfee-1985-4735-b655-c4773668dcdd",
   "metadata": {},
   "source": [
    "## Q12. A researcher wants to know if there are any significant differences in the average daily sales of three retail stores: Store A, Store B, and Store C. They randomly select 30 days and record the sales for each store on those days. Conduct a repeated measures ANOVA using Python to determine if there are any  significant differences in sales between the three stores. If the results are significant, follow up with a post- hoc test to determine which store(s) differ significantly from each other."
   ]
  },
  {
   "cell_type": "code",
   "execution_count": null,
   "id": "724a1cf5-7ea3-4ccf-9bee-96228053dff9",
   "metadata": {},
   "outputs": [],
   "source": []
  }
 ],
 "metadata": {
  "kernelspec": {
   "display_name": "Python 3 (ipykernel)",
   "language": "python",
   "name": "python3"
  },
  "language_info": {
   "codemirror_mode": {
    "name": "ipython",
    "version": 3
   },
   "file_extension": ".py",
   "mimetype": "text/x-python",
   "name": "python",
   "nbconvert_exporter": "python",
   "pygments_lexer": "ipython3",
   "version": "3.10.8"
  }
 },
 "nbformat": 4,
 "nbformat_minor": 5
}
